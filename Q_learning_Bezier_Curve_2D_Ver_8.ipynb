{
  "nbformat": 4,
  "nbformat_minor": 0,
  "metadata": {
    "colab": {
      "provenance": [],
      "collapsed_sections": [
        "ulB7u2qnNylB",
        "Vx861u-DYXmE"
      ],
      "toc_visible": true
    },
    "kernelspec": {
      "name": "python3",
      "display_name": "Python 3"
    },
    "language_info": {
      "name": "python"
    }
  },
  "cells": [
    {
      "cell_type": "markdown",
      "source": [
        "# Model"
      ],
      "metadata": {
        "id": "NQiiANqPT-4t"
      }
    },
    {
      "cell_type": "code",
      "source": [
        "import matplotlib.pyplot as plt\n",
        "from math import *\n",
        "import random"
      ],
      "metadata": {
        "id": "Dyw7ncM8T_We"
      },
      "execution_count": 1,
      "outputs": []
    },
    {
      "cell_type": "markdown",
      "source": [
        "# Math"
      ],
      "metadata": {
        "id": "ulB7u2qnNylB"
      }
    },
    {
      "cell_type": "markdown",
      "source": [
        "## Class\n"
      ],
      "metadata": {
        "id": "PRg-HKVYSvLo"
      }
    },
    {
      "cell_type": "markdown",
      "source": [
        "### Class: Vector\n"
      ],
      "metadata": {
        "id": "tB7kT4Al0pwI"
      }
    },
    {
      "cell_type": "code",
      "execution_count": null,
      "metadata": {
        "id": "6VPS29tw0NLG"
      },
      "outputs": [],
      "source": [
        "class Vector():\n",
        "    def __init__(self, coordinate):\n",
        "        self.coordinate = tuple(coordinate)\n",
        "        self.dimensions = len(self.coordinate)\n",
        "    def __str__(self):\n",
        "        return \"Vector\" + \"({:.5f}\".format(self.coordinate[0]) + \", {:.5f})\".format(self.coordinate[1])\n",
        "    def __repr__(self) -> str:\n",
        "        return self.__str__()\n",
        "    def __add__(self, vector):\n",
        "        return Vector((self.coordinate[i] + vector.coordinate[i] for i in range(self.dimensions)))\n",
        "    def __mul__(self, scalar):\n",
        "        return Vector((self.coordinate[i] * scalar for i in range(self.dimensions)))\n",
        "    def __sub__(self, vector):\n",
        "        return self + (vector * -1)\n",
        "    def __truediv__(self, scalar):\n",
        "        return self * (1 / scalar)\n",
        "    def norm(self):\n",
        "        return (sum(map(lambda x: x**2, self.coordinate))) ** 0.5"
      ]
    },
    {
      "cell_type": "markdown",
      "source": [
        "### Class: DataPoint"
      ],
      "metadata": {
        "id": "JWv2tvM7TDkA"
      }
    },
    {
      "cell_type": "code",
      "source": [
        "class DataPoint():\n",
        "    def __init__(self, data_points, copy = True):\n",
        "        self.point_set = data_points\n",
        "        self.arc_length_set = [0] + [(self.point_set[i] - self.point_set[i+1]).norm() for i in range(len(self.point_set) - 1)]\n",
        "        self.arc_length_set = [sum(self.arc_length_set[:i+1])for i in range(len(self.arc_length_set))]\n",
        "        self.arc_length = self.arc_length_set[-1]\n",
        "        self.x = [point.coordinate[0] for point in self.point_set]\n",
        "        self.y = [point.coordinate[1] for point in self.point_set]\n",
        "    def __getitem__(self, item):\n",
        "        return self.point_set[item]\n",
        "    def __len__(self):\n",
        "        return self.point_set.__len__()\n",
        "    def __str__(self):\n",
        "        s = \"DataPoint(\"\n",
        "        for point in self.point_set:\n",
        "            s += '\\n'\n",
        "            s += point.__str__()\n",
        "        s += ')'\n",
        "        return s\n",
        "    def __repr__(self):\n",
        "        return self.__str__()\n",
        "    def plot(self):\n",
        "        plt.plot(self.x, self.y)\n",
        "    def scatter(self):\n",
        "        plt.scatter(self.x, self.y)\n",
        "    def equal_partition(self, n):\n",
        "        point_set = []\n",
        "        standard = self.arc_length / (n)\n",
        "        k = 1\n",
        "        for i in range(n+1):\n",
        "            if i == 0:\n",
        "                point_set.append(self.point_set[0])\n",
        "            elif i == n:\n",
        "                point_set.append(self.point_set[-1])\n",
        "            else:\n",
        "                level = i * standard\n",
        "                for j in range(k, len(self.arc_length_set)):\n",
        "                    if self.arc_length_set[j] >= level:\n",
        "                        t = (level - self.arc_length_set[j-1]) / (self.arc_length_set[j] - self.arc_length_set[j-1])\n",
        "                        vector = self.point_set[j-1] + (self.point_set[j] - self.point_set[j-1]) * t\n",
        "                        point_set.append(vector)\n",
        "                        k = j-1\n",
        "                        break\n",
        "        return DataPoint(point_set)\n",
        "    def unispeed(self):\n",
        "        return self.equal_partition(self.__len__())"
      ],
      "metadata": {
        "id": "DW-73qhaTDKK"
      },
      "execution_count": null,
      "outputs": []
    },
    {
      "cell_type": "markdown",
      "source": [
        "### Class: Bezier Curve"
      ],
      "metadata": {
        "id": "KKnd9TV7-k6d"
      }
    },
    {
      "cell_type": "code",
      "source": [
        "class BezierCurve():\n",
        "    def __init__(self, bezier_points):\n",
        "        self.bezier_points = bezier_points\n",
        "        self.order = len(bezier_points) - 1\n",
        "    def __call__(self, t):\n",
        "        D = list(self.bezier_points)\n",
        "        for i in range(1, self.order+1):\n",
        "            for j in range(0, self.order+1-i):\n",
        "              D[j] = D[j]*(1-t) + D[j+1]*t\n",
        "        return D[0]"
      ],
      "metadata": {
        "id": "izkUWU7V-qbE"
      },
      "execution_count": null,
      "outputs": []
    },
    {
      "cell_type": "markdown",
      "source": [
        "## Function"
      ],
      "metadata": {
        "id": "l40mt9dlSyGX"
      }
    },
    {
      "cell_type": "markdown",
      "source": [
        "### Function: parameter"
      ],
      "metadata": {
        "id": "Vx861u-DYXmE"
      }
    },
    {
      "cell_type": "code",
      "source": [
        "def parameter(a, b, n):\n",
        "    return [a + (b - a) * i / (n - 1) for i in range(n)]"
      ],
      "metadata": {
        "id": "NS7y1TFXYsqg"
      },
      "execution_count": null,
      "outputs": []
    },
    {
      "cell_type": "markdown",
      "source": [
        "### Function: vector_valued_function"
      ],
      "metadata": {
        "id": "Vb3MTHufaj4q"
      }
    },
    {
      "cell_type": "code",
      "source": [
        "def vector_valued_function(f1, f2):\n",
        "    return lambda s: Vector([f1(s), f2(s)])"
      ],
      "metadata": {
        "id": "V8yJ96xJaslb"
      },
      "execution_count": null,
      "outputs": []
    },
    {
      "cell_type": "markdown",
      "source": [
        "### Function: sample"
      ],
      "metadata": {
        "id": "nqJBNruQbYqs"
      }
    },
    {
      "cell_type": "code",
      "source": [
        "def sample(F, t):\n",
        "    return DataPoint(list(map(F, t)))"
      ],
      "metadata": {
        "id": "XsmzVieFbgCw"
      },
      "execution_count": null,
      "outputs": []
    },
    {
      "cell_type": "markdown",
      "source": [
        "### Function: initial_bezier_curve"
      ],
      "metadata": {
        "id": "mJ8x0CwkdAh3"
      }
    },
    {
      "cell_type": "code",
      "source": [
        "def initial_bezier_curve(data_point, order):\n",
        "    bezier_points = data_point.equal_partition(order)\n",
        "    return BezierCurve(bezier_points)"
      ],
      "metadata": {
        "id": "o68ZaYrkdAFO"
      },
      "execution_count": null,
      "outputs": []
    },
    {
      "cell_type": "markdown",
      "source": [],
      "metadata": {
        "id": "9X7V5p2cN4b7"
      }
    },
    {
      "cell_type": "markdown",
      "source": [
        "# Q-learning"
      ],
      "metadata": {
        "id": "dmah91hQN5vy"
      }
    },
    {
      "cell_type": "markdown",
      "source": [
        "### Class: Environment"
      ],
      "metadata": {
        "id": "qFuCFvB3wGWT"
      }
    },
    {
      "cell_type": "code",
      "source": [
        "class Environment():\n",
        "    def __init__(self, datapoint_given):\n",
        "        self"
      ],
      "metadata": {
        "id": "ZihifNSQwGG1"
      },
      "execution_count": null,
      "outputs": []
    },
    {
      "cell_type": "markdown",
      "source": [
        "### Class: Agent"
      ],
      "metadata": {
        "id": "98LrxJM1N-VX"
      }
    },
    {
      "cell_type": "code",
      "source": [
        "class Agent():\n",
        "    def __init__(self, alpha, gamma, epsilon):\n",
        "        self.alpha = alpha\n",
        "        self.gamma = gamma\n",
        "        self.epsilon = epsilon\n",
        "        self.actions = [\"upper\", \"lower\", \"left\", \"right\", \\\n",
        "                        \"upper_left\", \"upper_right\", \"lower_left\", \"lower_right\"]\n",
        "        self.states = [\"x_right\", \"x_left\", \"y_upper\", \"y_lower\", \\\n",
        "                       \"I\", \"II\", \"III\", \"IV\"]\n",
        "        self.Q = {state: {action: 0 for action in self.actions} for state in self.states}\n",
        "    def get_action(self, state):\n",
        "        if random.random() < self.epsilon:\n",
        "            method = \"Exploration\"\n",
        "            action = random.choice(self.actions)\n",
        "        else:\n",
        "            method = \"Exploitation\"\n",
        "            max_Q = max(self.Q[state].values())\n",
        "            actions = self.Q[state].items()\n",
        "            actions = list(filter(lambda item: item[1] == max_Q, actions))\n",
        "            action = random.choice(actions)[0]\n",
        "        return action\n",
        "    def update(self, state, action, reward, next_state):\n",
        "        next_max_Q = max(self.Q[next_state].values())\n",
        "        alpha = self.alpha\n",
        "        gamma = self.gamma\n",
        "        self.Q[state][action] = (1 - alpha) * self.Q[state][action] \\\n",
        "                                + alpha * (reward + gamma * next_max_Q)"
      ],
      "metadata": {
        "id": "n55vZ7ujN-Bs"
      },
      "execution_count": null,
      "outputs": []
    },
    {
      "cell_type": "markdown",
      "source": [
        "### Func: reward_function"
      ],
      "metadata": {
        "id": "WYaSJs86vk1-"
      }
    },
    {
      "cell_type": "code",
      "source": [],
      "metadata": {
        "id": "3UmZuwpivvGe"
      },
      "execution_count": null,
      "outputs": []
    },
    {
      "cell_type": "markdown",
      "source": [
        "# Test:"
      ],
      "metadata": {
        "id": "S1nHxKDVwUL3"
      }
    },
    {
      "cell_type": "code",
      "source": [
        "x = Agent(0.5, 0.5, 0.3)\n",
        "for i in range(10):\n",
        "    print(x.get_action(\"I\"))"
      ],
      "metadata": {
        "colab": {
          "base_uri": "https://localhost:8080/"
        },
        "id": "skFt0l-8VUL3",
        "outputId": "3702133c-e1a2-4d8e-d3df-5988669870f1"
      },
      "execution_count": null,
      "outputs": [
        {
          "output_type": "stream",
          "name": "stdout",
          "text": [
            "upper_right\n",
            "lower_right\n",
            "left\n",
            "upper\n",
            "right\n",
            "lower\n",
            "upper_right\n",
            "upper_left\n",
            "upper\n",
            "upper_left\n"
          ]
        }
      ]
    },
    {
      "cell_type": "markdown",
      "source": [
        "# Main:"
      ],
      "metadata": {
        "id": "wDNXXCFQVj7j"
      }
    },
    {
      "cell_type": "code",
      "source": [
        "plt.figure(figsize = (5, 5))\n",
        "\n",
        "f1 = cos\n",
        "f2 = sin\n",
        "F = vector_valued_function(f1, f2)\n",
        "\n",
        "n = 100\n",
        "a = 0\n",
        "b = pi/2\n",
        "t = parameter(a, b, n)\n",
        "\n",
        "datapoint_given = sample(F, t)\n",
        "print(datapoint_given[0])\n",
        "\n",
        "B = initial_bezier_curve(datapoint_given, 3)\n",
        "n = 100\n",
        "a = 0\n",
        "b = 1\n",
        "t = parameter(a, b, n)\n",
        "datapoint_bezier = sample(B, t)\n",
        "\n",
        "datapoint_bezier.plot()\n",
        "B.bezier_points.scatter()\n",
        "datapoint_given.plot()"
      ],
      "metadata": {
        "colab": {
          "base_uri": "https://localhost:8080/",
          "height": 463
        },
        "id": "kLuvUhTwVurr",
        "outputId": "db724c3a-f261-46c4-96bb-9fade797981a"
      },
      "execution_count": null,
      "outputs": [
        {
          "output_type": "stream",
          "name": "stdout",
          "text": [
            "Vector(1.00000, 0.00000)\n"
          ]
        },
        {
          "output_type": "display_data",
          "data": {
            "text/plain": [
              "<Figure size 500x500 with 1 Axes>"
            ],
            "image/png": "[encoded data removed]"
          },
          "metadata": {}
        }
      ]
    }
  ]
}